{
 "cells": [
  {
   "cell_type": "markdown",
   "id": "f361fc0c",
   "metadata": {},
   "source": [
    "**Exercise 2**"
   ]
  },
  {
   "cell_type": "markdown",
   "id": "538a87fe",
   "metadata": {},
   "source": [
    "# Data Science Tools and Ecosystem"
   ]
  },
  {
   "cell_type": "markdown",
   "id": "b683305e",
   "metadata": {},
   "source": [
    "**Exercise 3**"
   ]
  },
  {
   "cell_type": "markdown",
   "id": "a77587a3",
   "metadata": {},
   "source": [
    "In this notebook, Data Science Tools and Ecosystem are summarized."
   ]
  },
  {
   "cell_type": "markdown",
   "id": "3dd1299f",
   "metadata": {},
   "source": [
    "**Exercise 4**"
   ]
  },
  {
   "cell_type": "markdown",
   "id": "67ff945f",
   "metadata": {},
   "source": [
    "Some of the popular languages that Data Scientists use are:\n",
    "\n",
    "    1. Python\n",
    "    2. R\n",
    "    3. Julia\n",
    "    4. SQL\n",
    "    "
   ]
  },
  {
   "cell_type": "markdown",
   "id": "529b8a37",
   "metadata": {},
   "source": [
    "**Exercise 5**"
   ]
  },
  {
   "cell_type": "markdown",
   "id": "e700a8aa",
   "metadata": {},
   "source": [
    "Some of the most commonly used libraries used by Data Scientists include:\n",
    "    \n",
    "    1. Pandas.\n",
    "    2. Numpy.\n",
    "    3. Matplotlib.pyplot\n",
    "    4. statsmodel"
   ]
  },
  {
   "cell_type": "markdown",
   "id": "de680120",
   "metadata": {},
   "source": [
    "**Exercise 6**"
   ]
  },
  {
   "cell_type": "markdown",
   "id": "fe1a41f7",
   "metadata": {},
   "source": [
    "| Data Science Tools |\n",
    ":----------------------\n",
    "Jupyter Notebook\n",
    "Jupyter Lab\n",
    "Spyder"
   ]
  },
  {
   "cell_type": "markdown",
   "id": "c5b5c428",
   "metadata": {},
   "source": [
    "**Exercise 7**"
   ]
  },
  {
   "cell_type": "markdown",
   "id": "0f2139be",
   "metadata": {},
   "source": [
    "### Below are a few examples of evaluating airthmetic expressions in Python"
   ]
  },
  {
   "cell_type": "markdown",
   "id": "87df8102",
   "metadata": {},
   "source": [
    "**Exercise 8**"
   ]
  },
  {
   "cell_type": "code",
   "execution_count": 6,
   "id": "3e113520",
   "metadata": {},
   "outputs": [
    {
     "data": {
      "text/plain": [
       "17"
      ]
     },
     "execution_count": 6,
     "metadata": {},
     "output_type": "execute_result"
    }
   ],
   "source": [
    "#This is a sample arithmetic expression to multiply then add integers.\n",
    "(3*4)+5"
   ]
  },
  {
   "cell_type": "markdown",
   "id": "42270cc8",
   "metadata": {},
   "source": [
    "**Exercise 9**"
   ]
  },
  {
   "cell_type": "code",
   "execution_count": 8,
   "id": "7d353b89",
   "metadata": {},
   "outputs": [
    {
     "data": {
      "text/plain": [
       "3.3333333333333335"
      ]
     },
     "execution_count": 8,
     "metadata": {},
     "output_type": "execute_result"
    }
   ],
   "source": [
    "#This will convert 200 minutes to hours by dividing by 60\n",
    "200 / 60"
   ]
  },
  {
   "cell_type": "markdown",
   "id": "b58e1833",
   "metadata": {},
   "source": [
    "**Exercise 10**"
   ]
  },
  {
   "cell_type": "markdown",
   "id": "9c770842",
   "metadata": {},
   "source": [
    "**Objectives:**\n",
    "\n",
    "    - List Data Science popular Languages.\n",
    "    - List Data Science popular Libraries.\n",
    "    - List Data Science popular Development Environments."
   ]
  },
  {
   "cell_type": "markdown",
   "id": "95625431",
   "metadata": {},
   "source": [
    "**Exercise 11**"
   ]
  },
  {
   "cell_type": "markdown",
   "id": "6f352f1c",
   "metadata": {},
   "source": [
    "## Author's Name\n",
    "Mahmoud Raya."
   ]
  },
  {
   "cell_type": "code",
   "execution_count": null,
   "id": "9b926cda",
   "metadata": {},
   "outputs": [],
   "source": []
  }
 ],
 "metadata": {
  "kernelspec": {
   "display_name": "Python 3 (ipykernel)",
   "language": "python",
   "name": "python3"
  },
  "language_info": {
   "codemirror_mode": {
    "name": "ipython",
    "version": 3
   },
   "file_extension": ".py",
   "mimetype": "text/x-python",
   "name": "python",
   "nbconvert_exporter": "python",
   "pygments_lexer": "ipython3",
   "version": "3.9.12"
  }
 },
 "nbformat": 4,
 "nbformat_minor": 5
}
